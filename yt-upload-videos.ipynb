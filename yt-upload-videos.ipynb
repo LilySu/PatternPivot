{
 "cells": [
  {
   "cell_type": "code",
   "execution_count": 5,
   "id": "77283822-b9d6-451e-b9fe-ca24e9fc6441",
   "metadata": {},
   "outputs": [],
   "source": [
    "# Search DynamoDB for a select batch of VideoIds\n",
    "# Extract the audio from the video by converting each VideoId to audio .mp4's\n",
    "# Convert .mp4 audio into .wav audio file formats\n",
    "# Combine batch of .wav audio into a newly generated original audio .wav"
   ]
  },
  {
   "cell_type": "code",
   "execution_count": 4,
   "id": "45722f9d-4d44-4b8a-8bd9-887ee544a712",
   "metadata": {},
   "outputs": [
    {
     "name": "stdout",
     "output_type": "stream",
     "text": [
      "Please visit this URL to authorize this application: https://accounts.google.com/o/oauth2/auth?response_type=code&client_id=520952741799-dft5nf6hvdrq06km277pdgqlnbklkdnj.apps.googleusercontent.com&redirect_uri=http%3A%2F%2Flocalhost%3A8080%2F&scope=https%3A%2F%2Fwww.googleapis.com%2Fauth%2Fyoutube.upload&state=SkZbZES2pDUECekiZmKqurBZub0PMR&access_type=offline\n",
      "Video uploaded successfully! Video ID: iTg0bd5TJ9U\n"
     ]
    }
   ],
   "source": [
    "import os\n",
    "from google.oauth2.credentials import Credentials\n",
    "from google_auth_oauthlib.flow import InstalledAppFlow\n",
    "from googleapiclient.discovery import build\n",
    "from googleapiclient.errors import HttpError\n",
    "from dotenv import load_dotenv\n",
    "\n",
    "def get_env_variables():\n",
    "    \"\"\"Fetch all necessary configurations from environment variables.\"\"\"\n",
    "    return {\n",
    "        'CLIENT_SECRET_FILE': os.getenv('CLIENT_SECRET_FILE'),\n",
    "        'SCOPES': ['https://www.googleapis.com/auth/youtube.upload'],\n",
    "    }\n",
    "\n",
    "def authenticate_with_oauth(client_secret_file, scopes):\n",
    "    flow = InstalledAppFlow.from_client_secrets_file(client_secret_file, scopes)\n",
    "    credentials = flow.run_local_server(port=8080)\n",
    "    return build('youtube', 'v3', credentials=credentials)\n",
    "\n",
    "def upload_video(youtube_service, video_file_path):\n",
    "    request_body = {\n",
    "        'snippet': {\n",
    "            'title': 'Test',\n",
    "            'description': 'test Description',\n",
    "            'tags': ['tag1', 'tag2'],\n",
    "            'categoryId': '22',  # You can find the category IDs on the YouTube API documentation\n",
    "        },\n",
    "        'status': {\n",
    "            'privacyStatus': 'private',  # Set to 'public' for a public video\n",
    "            'selfDeclaredMadeForKids': False,  # Set to True if the video is made for kids\n",
    "        },\n",
    "    }\n",
    "\n",
    "    media_file = os.path.abspath(video_file_path)\n",
    "\n",
    "    insert_request = youtube_service.videos().insert(\n",
    "        part=','.join(request_body.keys()),\n",
    "        body=request_body,\n",
    "        media_body=media_file\n",
    "    )\n",
    "\n",
    "    response = insert_request.execute()\n",
    "    print(f\"Video uploaded successfully! Video ID: {response['id']}\")\n",
    "\n",
    "# Load the .env file\n",
    "load_dotenv()\n",
    "# Set the path to the video file you want to upload\n",
    "VIDEO_FILE_PATH = '199558.mp4'\n",
    "# Get environment variables\n",
    "options = get_env_variables()\n",
    "youtube_service = authenticate_with_oauth(options['CLIENT_SECRET_FILE'], options['SCOPES'])\n",
    "\n",
    "# Upload the video\n",
    "upload_video(youtube_service, VIDEO_FILE_PATH)\n"
   ]
  },
  {
   "cell_type": "code",
   "execution_count": 2,
   "id": "28c25977-f2f8-4747-ab72-4256e502073c",
   "metadata": {},
   "outputs": [
    {
     "name": "stdout",
     "output_type": "stream",
     "text": [
      "Please visit this URL to authorize this application: https://accounts.google.com/o/oauth2/auth?response_type=code&client_id=520952741799-dft5nf6hvdrq06km277pdgqlnbklkdnj.apps.googleusercontent.com&redirect_uri=http%3A%2F%2Flocalhost%3A8080%2F&scope=https%3A%2F%2Fwww.googleapis.com%2Fauth%2Fyoutube.upload&state=4IEZ6lvnA4onyTz7cZVGIWDKhyL7bG&access_type=offline\n",
      "Video uploaded successfully! Video ID: RDN4GjVWNrY\n"
     ]
    }
   ],
   "source": [
    "import os\n",
    "import google.oauth2.credentials\n",
    "from google.oauth2 import service_account\n",
    "from google_auth_oauthlib.flow import InstalledAppFlow\n",
    "from googleapiclient.discovery import build\n",
    "\n",
    "\n",
    "# Method 2: OAuth 2.0 Credentials File\n",
    "CLIENT_SECRET_FILE = 'client_secret.json'\n",
    "SCOPES = ['https://www.googleapis.com/auth/youtube.upload']\n",
    "\n",
    "# Set the path to the video file you want to upload\n",
    "VIDEO_FILE_PATH = '182517.mp4'\n",
    "\n",
    "def authenticate_with_oauth():\n",
    "    flow = InstalledAppFlow.from_client_secrets_file(CLIENT_SECRET_FILE, SCOPES)\n",
    "    credentials = flow.run_local_server(port=8080)\n",
    "    return build('youtube', 'v3', credentials=credentials)\n",
    "\n",
    "\n",
    "def upload_video(youtube_service, video_file_path):\n",
    "    request_body = {\n",
    "        'snippet': {\n",
    "            'title': 'Your Video Title',\n",
    "            'description': 'Your Video Description',\n",
    "            'tags': ['tag1', 'tag2'],\n",
    "            'categoryId': '22',  # You can find the category IDs on the YouTube API documentation\n",
    "        },\n",
    "        'status': {\n",
    "            'privacyStatus': 'private',  # Set to 'public' for a public video\n",
    "            'selfDeclaredMadeForKids': False,  # Set to True if the video is made for kids\n",
    "        },\n",
    "    }\n",
    "\n",
    "    media_file = os.path.abspath(video_file_path)\n",
    "\n",
    "    insert_request = youtube_service.videos().insert(\n",
    "        part=','.join(request_body.keys()),\n",
    "        body=request_body,\n",
    "        media_body=media_file\n",
    "    )\n",
    "\n",
    "    response = insert_request.execute()\n",
    "    print(f\"Video uploaded successfully! Video ID: {response['id']}\")\n",
    "\n",
    "\n",
    "youtube_service = authenticate_with_oauth()\n",
    "\n",
    "# Upload the video\n",
    "upload_video(youtube_service, VIDEO_FILE_PATH)\n"
   ]
  },
  {
   "cell_type": "code",
   "execution_count": null,
   "id": "b1c02835-540a-4488-b0cb-b0dbfabb2bc1",
   "metadata": {},
   "outputs": [],
   "source": []
  }
 ],
 "metadata": {
  "kernelspec": {
   "display_name": "Python 3 (ipykernel)",
   "language": "python",
   "name": "python3"
  },
  "language_info": {
   "codemirror_mode": {
    "name": "ipython",
    "version": 3
   },
   "file_extension": ".py",
   "mimetype": "text/x-python",
   "name": "python",
   "nbconvert_exporter": "python",
   "pygments_lexer": "ipython3",
   "version": "3.9.18"
  }
 },
 "nbformat": 4,
 "nbformat_minor": 5
}
